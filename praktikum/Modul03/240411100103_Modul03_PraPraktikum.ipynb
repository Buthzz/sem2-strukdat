{
  "nbformat": 4,
  "nbformat_minor": 0,
  "metadata": {
    "colab": {
      "provenance": []
    },
    "kernelspec": {
      "name": "python3",
      "display_name": "Python 3"
    },
    "language_info": {
      "name": "python"
    }
  },
  "cells": [
    {
      "cell_type": "markdown",
      "source": [
        "#### TUGAS PRA-PRAKTIKUM MODUL - 03 ([Linear Data Structure] Stack)\n",
        "\n",
        "* Nama : Muhammad Fajar Nugroho\n",
        "* NIM : 240411100103\n",
        "* Mata Kuliah : Struktur Data\n",
        "* Kelas : IF 2E"
      ],
      "metadata": {
        "id": "BBxxzaE9xXE-"
      }
    },
    {
      "cell_type": "markdown",
      "source": [
        "1. Sebutkan method-method di dalam list (bulit in data structure python) untuk menambah dan menghapus data, tunjukkan perbedaan antara method-method tersebut, dan berikan contoh penggunaan"
      ],
      "metadata": {
        "id": "fe3dPn80xsFP"
      }
    },
    {
      "cell_type": "markdown",
      "source": [
        "### Menambah Data\n",
        "1. `append(item)`\n",
        "* Menambahkan satu item ke akhir list.\n",
        "* Tidak bisa menambahkan lebih dari satu item sekaligus.\n",
        "```python\n",
        "kendaraan = ['motor', 'mobil']\n",
        "kendaraan.append('bis')\n",
        "print(kendaraan)  # ['motor', 'mobil', 'bis']\n",
        "```\n",
        "\n",
        "2. `extend(iterable)`\n",
        "* Menambahkan beberapa item dari iterable (seperti list, tuple) ke akhir list.\n",
        "* Berbeda dengan append, karena extend akan menggabungkan isi iterable, bukan menambahkannya sebagai satu elemen.\n",
        "```python\n",
        "kendaraan = ['motor', 'mobil']\n",
        "kendaraan.extend(['bis', 'truk'])\n",
        "print(kendaraan)  # ['motor', 'mobil', 'bis', 'truk']\n",
        "```\n",
        "\n",
        "3. `insert(index, item)`\n",
        "* Menambahkan item ke posisi tertentu (berdasarkan indeks).\n",
        "* Elemen lain akan bergeser ke kanan.\n",
        "```python\n",
        "kendaraan = ['motor', 'mobil']\n",
        "kendaraan.insert(1, 'bis')\n",
        "print(kendaraan)  # ['motor', 'bis', 'mobil']\n",
        "```\n",
        "\n",
        "### Menghapus Data\n",
        "1. `remove(item)`\n",
        "* Menghapus item pertama yang cocok dengan nilai yang diberikan.\n",
        "* Akan error jika item tidak ditemukan.\n",
        "```python\n",
        "kendaraan = ['motor', 'mobil', 'bis']\n",
        "kendaraan.remove('mobil')\n",
        "print(kendaraan)  # ['motor', 'bis']\n",
        "```\n",
        "2. `pop([index])`\n",
        "* Menghapus item berdasarkan indeks dan mengembalikannya.\n",
        "* Jika tidak ada indeks, maka menghapus item terakhir.\n",
        "* Akan error jika indeks tidak valid.\n",
        "```python\n",
        "kendaraan = ['motor', 'mobil', 'bis']\n",
        "last_fruit = kendaraan.pop()\n",
        "print(last_fruit)  # 'bis'\n",
        "print(kendaraan)      # ['motor', 'mobil']\n",
        "kendaraan_baru = kendaraan.pop(1)\n",
        "print(kendaraan_baru)  # 'mobil'\n",
        "print(kendaraan)        # ['motor']\n",
        "```\n",
        "3. `clear()`\n",
        "* Menghapus semua isi list (jadi list kosong)\n",
        "```python\n",
        "kendaraan = ['motor', 'mobil']\n",
        "kendaraan.clear()\n",
        "print(kendaraan)  # []\n",
        "```\n",
        "4. `del list[index]` atau `del list[start:stop]`\n",
        "* Menghapus item dengan indeks tertentu, atau menggunakan slicing untuk menghapus lebih dari satu elemen.\n",
        "* Berbeda dengan pop, karena tidak mengembalikan nilai.\n",
        "```python\n",
        "kendaraan = ['motor', 'mobil', 'bis', 'truk']\n",
        "del kendaraan[1]\n",
        "print(kendaraan)  # ['motor', 'bis', 'truk']\n",
        "del kendaraan[1:3]\n",
        "print(kendaraan)  # ['motor']\n",
        "```\n",
        "## Perbedaan :\n",
        "\n",
        "| Method     | Operasi     | Target                             | Mengembalikan Nilai? | Error Jika Tidak Valid? | Keterangan Singkat                                |\n",
        "|------------|-------------|------------------------------------|----------------------|--------------------------|---------------------------------------------------|\n",
        "| `append`   | Menambah    | 1 item di akhir list               | Tidak                | Tidak                   | Menambah satu item ke akhir list                 |\n",
        "| `extend`   | Menambah    | Banyak item (iterable)             | Tidak                | Tidak                   | Menambahkan semua elemen dari iterable           |\n",
        "| `insert`   | Menambah    | 1 item di indeks tertentu          | Tidak                | Tidak                   | Menyisipkan item di posisi tertentu              |\n",
        "| `remove`   | Menghapus   | Item berdasarkan nilai             | Tidak                | Ya                      | Menghapus item pertama yang cocok                |\n",
        "| `pop`      | Menghapus   | Item berdasarkan indeks / terakhir | Ya                   | Ya                      | Menghapus dan mengembalikan item                 |\n",
        "| `clear`    | Menghapus   | Semua item                         | Tidak                | Tidak                   | Mengosongkan seluruh list                        |\n",
        "| `del`      | Menghapus   | Item berdasarkan indeks atau slice | Tidak                | Ya                      | Menghapus item dengan indeks atau slicing        |\n"
      ],
      "metadata": {
        "id": "g4aMnmbsycKQ"
      }
    },
    {
      "cell_type": "markdown",
      "source": [
        "2. Buat program dengan menggunakan bahasa pemrograman Python untuk soal-soal berikut ini:\n",
        "* (a) Buat fungsi untuk mebuat list baru dari suatu list (parameter dari fungsi), dimana list baru berisi\n",
        "data-data yang berbeda (tidak duplikat) dari list yang terdapat pada parameter, misalkan:\n",
        "input atau paramater: [1,3,1,1,4,5,7,7,1,5]\n",
        "output-return value : [1,3,4,5,7]"
      ],
      "metadata": {
        "id": "7ry2ErjUx2-d"
      }
    },
    {
      "cell_type": "code",
      "source": [
        "def hapus_duplikat(lst):\n",
        "    hasil = []\n",
        "    for item in lst:\n",
        "        if item not in hasil:\n",
        "            hasil.append(item)\n",
        "    return hasil\n",
        "\n",
        "data = [1, 3, 1, 1, 4, 5, 7, 7, 1, 5]\n",
        "print(hapus_duplikat(data))"
      ],
      "metadata": {
        "colab": {
          "base_uri": "https://localhost:8080/"
        },
        "id": "FEgnS38yx3Kt",
        "outputId": "11be2864-e51b-4aa7-93a5-984a73e58371"
      },
      "execution_count": null,
      "outputs": [
        {
          "output_type": "stream",
          "name": "stdout",
          "text": [
            "[1, 3, 4, 5, 7]\n"
          ]
        }
      ]
    },
    {
      "cell_type": "markdown",
      "source": [
        "* (b) Buat fungsi untuk menghasilkan list baru yang berisi karakter-karakter konsonan yang berbeda\n",
        "dari suatu string yang terdapat pada parameter, misalkan :\n",
        "input atau parameter :’’struktur data’’\n",
        "output-return value : [’s’,’t’,’r’,’k’,’d’]"
      ],
      "metadata": {
        "id": "iqvrRhdHx_zN"
      }
    },
    {
      "cell_type": "code",
      "source": [
        "def hapus_konsonan(s):\n",
        "    konsonan = 'aiueo'\n",
        "    hasil= []\n",
        "\n",
        "    for char in s:\n",
        "        huruf = 'a' <= char <= 'z'\n",
        "\n",
        "        if huruf and char not in konsonan:\n",
        "            if char not in hasil:\n",
        "                hasil.append(char)\n",
        "\n",
        "    return hasil\n",
        "\n",
        "teks = 'struktur data'\n",
        "print(hapus_konsonan(teks))"
      ],
      "metadata": {
        "colab": {
          "base_uri": "https://localhost:8080/"
        },
        "id": "x4kbBB5ayDf2",
        "outputId": "15714f67-890d-41b2-c2c7-b7afd3c777bd"
      },
      "execution_count": null,
      "outputs": [
        {
          "output_type": "stream",
          "name": "stdout",
          "text": [
            "['s', 't', 'r', 'k', 'd']\n"
          ]
        }
      ]
    }
  ]
}