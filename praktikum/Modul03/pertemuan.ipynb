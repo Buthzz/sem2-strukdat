{
 "cells": [
  {
   "metadata": {},
   "cell_type": "markdown",
   "source": "",
   "id": "e5558f259f67659d"
  },
  {
   "metadata": {
    "collapsed": true,
    "ExecuteTime": {
     "end_time": "2025-04-18T03:00:50.505770Z",
     "start_time": "2025-04-18T03:00:50.495379Z"
    }
   },
   "cell_type": "code",
   "source": [
    "def stack():\n",
    "    s = []\n",
    "    return s\n",
    "\n",
    "def push(s,data):\n",
    "    s.append(data)\n",
    "\n",
    "def pop(s):\n",
    "    data = s.pop()\n",
    "    return data\n",
    "\n",
    "def peek(s):\n",
    "    return s[-1]\n",
    "\n",
    "def size(s):\n",
    "    return len(s)\n",
    "\n",
    "def isEmpty(s):\n",
    "    return s == []\n"
   ],
   "id": "initial_id",
   "outputs": [
    {
     "name": "stdout",
     "output_type": "stream",
     "text": [
      "[8]\n"
     ]
    }
   ],
   "execution_count": 8
  },
  {
   "metadata": {
    "ExecuteTime": {
     "end_time": "2025-04-18T03:01:01.435198Z",
     "start_time": "2025-04-18T03:01:01.419611Z"
    }
   },
   "cell_type": "code",
   "source": [
    "arr = stack()\n",
    "push(arr,8)\n",
    "print(arr)"
   ],
   "id": "f07aefd01252b325",
   "outputs": [
    {
     "name": "stdout",
     "output_type": "stream",
     "text": [
      "[8]\n"
     ]
    }
   ],
   "execution_count": 9
  },
  {
   "metadata": {
    "ExecuteTime": {
     "end_time": "2025-04-18T03:33:27.440578Z",
     "start_time": "2025-04-18T03:33:27.433019Z"
    }
   },
   "cell_type": "code",
   "source": [
    "def rev(word):\n",
    "    st = stack()\n",
    "    balik=''\n",
    "    for ch in word:\n",
    "        push(st, ch)\n",
    "    while st:\n",
    "        balik += pop(st)\n",
    "    return balik\n",
    "\n",
    "def dibalik(word):\n",
    "    kata = rev(word)\n",
    "    dibalik = ''\n",
    "    for ch in kata:\n",
    "        dibalik += ch\n",
    "\n",
    "    return dibalik\n",
    "\n",
    "\n",
    "print(rev(\"abc abcde\"))"
   ],
   "id": "d1eefe2b87f470a9",
   "outputs": [
    {
     "name": "stdout",
     "output_type": "stream",
     "text": [
      "edcba cba\n"
     ]
    }
   ],
   "execution_count": 25
  },
  {
   "metadata": {
    "ExecuteTime": {
     "end_time": "2025-04-18T03:18:04.940546Z",
     "start_time": "2025-04-18T03:18:04.902946Z"
    }
   },
   "cell_type": "code",
   "source": [
    "# def reverse(word):\n",
    "#     return word[::-1]\n",
    "#\n",
    "# # print(reverse(\"Fajar Hendrik\"))\n",
    "# print(reverse(\"abc abcde\"))\n",
    "# print(reverse(\"abc abc de\"))"
   ],
   "id": "42627fa43b312cd1",
   "outputs": [
    {
     "name": "stdout",
     "output_type": "stream",
     "text": [
      "edcba cba\n",
      "ed cba cba\n"
     ]
    }
   ],
   "execution_count": 17
  },
  {
   "metadata": {
    "ExecuteTime": {
     "end_time": "2025-04-18T03:41:12.467902Z",
     "start_time": "2025-04-18T03:41:12.423853Z"
    }
   },
   "cell_type": "code",
   "source": [
    "def reverse(word):\n",
    "    st = stack()\n",
    "    kebalik=''\n",
    "    for ch in word:\n",
    "        if ch != '':\n",
    "            push(st, ch)\n",
    "        else:\n",
    "            while not isEmpty(st):\n",
    "                kebalik = kebalik + pop(st)\n",
    "            kebalik = kebalik + ''\n",
    "    while not isEmpty(st):\n",
    "        kebalik = kebalik + pop(st)\n",
    "    return kebalik\n",
    "\n",
    "print(reverse(\"abc abcde\"))\n",
    "print(reverse(\"abc abc de\"))\n",
    "print(reverse(\"i am student\"))"
   ],
   "id": "b5250a8d58848e89",
   "outputs": [
    {
     "name": "stdout",
     "output_type": "stream",
     "text": [
      "edcba cba\n",
      "ed cba cba\n"
     ]
    }
   ],
   "execution_count": 27
  }
 ],
 "metadata": {
  "kernelspec": {
   "display_name": "Python 3",
   "language": "python",
   "name": "python3"
  },
  "language_info": {
   "codemirror_mode": {
    "name": "ipython",
    "version": 2
   },
   "file_extension": ".py",
   "mimetype": "text/x-python",
   "name": "python",
   "nbconvert_exporter": "python",
   "pygments_lexer": "ipython2",
   "version": "2.7.6"
  }
 },
 "nbformat": 4,
 "nbformat_minor": 5
}
