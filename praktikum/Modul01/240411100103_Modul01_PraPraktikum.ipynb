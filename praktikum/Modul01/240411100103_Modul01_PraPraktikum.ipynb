{
  "nbformat": 4,
  "nbformat_minor": 0,
  "metadata": {
    "colab": {
      "provenance": []
    },
    "kernelspec": {
      "name": "python3",
      "display_name": "Python 3"
    },
    "language_info": {
      "name": "python"
    }
  },
  "cells": [
    {
      "cell_type": "markdown",
      "source": [
        "#### TUGAS PRA-PRAKTIKUM MODUL - 01 (Review Algoritma #1)\n",
        "\n",
        "* Nama: Muhammad Fajar Nugroho\n",
        "* NIM: 240411100103\n",
        "* Kelas: IF 2E (Struktur Data)\n",
        "\n"
      ],
      "metadata": {
        "id": "XfcZ5igyoLCz"
      }
    },
    {
      "cell_type": "markdown",
      "source": [
        "1. Buatlah program untuk menghitung umur saat ini dengan masukan berupa tahun lahir"
      ],
      "metadata": {
        "id": "s96Xu46eox4O"
      }
    },
    {
      "cell_type": "code",
      "execution_count": null,
      "metadata": {
        "colab": {
          "base_uri": "https://localhost:8080/"
        },
        "id": "qdSHCH_9n9TY",
        "outputId": "b5497937-b386-4023-fca1-2d2b0c0f311d"
      },
      "outputs": [
        {
          "output_type": "stream",
          "name": "stdout",
          "text": [
            "Masukkan tahun lahir: 2005\n",
            "Umur kamu adalah = 20 Tahun\n"
          ]
        }
      ],
      "source": [
        "lahir = int(input(\"Masukkan tahun lahir: \"))\n",
        "sekarang = 2025\n",
        "umur = sekarang - lahir\n",
        "print(f\"Umur kamu adalah = {umur} Tahun\")"
      ]
    },
    {
      "cell_type": "markdown",
      "source": [
        "2. Buatlah program untuk konversi dollar ke rupiah, dan sebaliknya"
      ],
      "metadata": {
        "id": "XXNk55HDpyqm"
      }
    },
    {
      "cell_type": "code",
      "source": [
        "kurs = 16405\n",
        "\n",
        "print(\"Pilih konversi :\")\n",
        "print(\"1. Dollar ke Rupiah\")\n",
        "print(\"2. Rupiah ke Dollar\")\n",
        "\n",
        "pilih = int(input(\"Masukkan pilihan: \"))\n",
        "\n",
        "if pilih == 1:\n",
        "  dollar = int(input(\"Masukkan jumlah: \"))\n",
        "  hasil = dollar * kurs\n",
        "  print(f\"Nilai Dollar USD ${dollar} ke rupiah menjadi = Rp.{hasil}\")\n",
        "elif pilih == 2:\n",
        "  rupiah = int(input(\"Masukkan jumlah: \"))\n",
        "  hasil = rupiah/kurs\n",
        "  print(f\"Nilai rupiah Rp.{rupiah} menjadi = ${hasil} Dollar USD\")\n",
        "else:\n",
        "  print(\"Gak ada pilihannya cuy\")"
      ],
      "metadata": {
        "colab": {
          "base_uri": "https://localhost:8080/"
        },
        "id": "T0rUYPA7p4Y1",
        "outputId": "e707888d-e430-4c1a-fe39-ada5dc59187a"
      },
      "execution_count": null,
      "outputs": [
        {
          "output_type": "stream",
          "name": "stdout",
          "text": [
            "Pilih konversi :\n",
            "1. Dollar ke Rupiah\n",
            "2. Rupiah ke Dollar\n",
            "Masukkan pilihan: 1\n",
            "Masukkan jumlah: 10\n",
            "Nilai Dollar USD $10 ke rupiah menjadi = Rp.164050\n"
          ]
        }
      ]
    },
    {
      "cell_type": "markdown",
      "source": [
        "3. Buatlah program untuk menuliskan semua bilangan genap mulai dari nol sampai dengan bilangan\n",
        "tertentu (inputan dari user)"
      ],
      "metadata": {
        "id": "Tfp45VQQp9Yb"
      }
    },
    {
      "cell_type": "code",
      "source": [
        "angka = int(input(\"Masukkan jumlah angka= \"))\n",
        "\n",
        "for i in range(1, angka+1):\n",
        "  if i % 2 == 0:\n",
        "    print(i)\n"
      ],
      "metadata": {
        "colab": {
          "base_uri": "https://localhost:8080/"
        },
        "id": "wRcVM2wpqGUp",
        "outputId": "aa25c905-e60a-4beb-8959-371c8af2c378"
      },
      "execution_count": null,
      "outputs": [
        {
          "output_type": "stream",
          "name": "stdout",
          "text": [
            "Masukkan jumlah angka= 15\n",
            "2\n",
            "4\n",
            "6\n",
            "8\n",
            "10\n",
            "12\n",
            "14\n"
          ]
        }
      ]
    },
    {
      "cell_type": "markdown",
      "source": [
        "4. Buatlah program untuk menuliskan semua bilangan ganjil mulai dari nol sampai dengan bilangan\n",
        "tertentu (inputan dari user)"
      ],
      "metadata": {
        "id": "e9Suk9yap7o2"
      }
    },
    {
      "cell_type": "code",
      "source": [
        "angka = int(input(\"Masukkan jumlah angka= \"))\n",
        "\n",
        "for i in range(1, angka+1):\n",
        "  if i % 2 != 0:\n",
        "    print(i)\n"
      ],
      "metadata": {
        "colab": {
          "base_uri": "https://localhost:8080/"
        },
        "id": "jEoorTrbqK52",
        "outputId": "8fec6acf-6da8-4121-b779-bbaf8f7e180a"
      },
      "execution_count": null,
      "outputs": [
        {
          "output_type": "stream",
          "name": "stdout",
          "text": [
            "Masukkan jumlah angka= 15\n",
            "1\n",
            "3\n",
            "5\n",
            "7\n",
            "9\n",
            "11\n",
            "13\n",
            "15\n"
          ]
        }
      ]
    },
    {
      "cell_type": "markdown",
      "source": [
        "5. Tuliskan Tabel Kebenaran dari Operasi Logika and, or, dan not"
      ],
      "metadata": {
        "id": "pd-sStSGp9az"
      }
    },
    {
      "cell_type": "code",
      "source": [
        "print(\"Tabel Kebenaran Operator Logika\")\n",
        "print(\"\\n1. Operator AND (and)\")\n",
        "print(\"---------------------------\")\n",
        "print(\"| A     | B     | A AND B |\")\n",
        "print(\"---------------------------\")\n",
        "print(\"| True  | True  | True    |\")\n",
        "print(\"| True  | False | False   |\")\n",
        "print(\"| False | True  | False   |\")\n",
        "print(\"| False | False | False   |\")\n",
        "print(\"---------------------------\")\n",
        "\n",
        "print(\"\\n2. Operator OR (or)\")\n",
        "print(\"---------------------------\")\n",
        "print(\"| A     | B     | A OR B  |\")\n",
        "print(\"---------------------------\")\n",
        "print(\"| True  | True  | True    |\")\n",
        "print(\"| True  | False | True    |\")\n",
        "print(\"| False | True  | True    |\")\n",
        "print(\"| False | False | False   |\")\n",
        "print(\"---------------------------\")\n",
        "\n",
        "print(\"\\n3. Operator NOT (not)\")\n",
        "print(\"-----------------\")\n",
        "print(\"| A     | NOT A |\")\n",
        "print(\"-----------------\")\n",
        "print(\"| True  | False |\")\n",
        "print(\"| False | True  |\")\n",
        "print(\"-----------------\")"
      ],
      "metadata": {
        "colab": {
          "base_uri": "https://localhost:8080/"
        },
        "id": "OhplBE87qLWS",
        "outputId": "58ef5640-5a3e-41bd-ecfc-821886094911"
      },
      "execution_count": null,
      "outputs": [
        {
          "output_type": "stream",
          "name": "stdout",
          "text": [
            "Tabel Kebenaran Operator Logika\n",
            "\n",
            "1. Operator AND (and)\n",
            "---------------------------\n",
            "| A     | B     | A AND B |\n",
            "---------------------------\n",
            "| True  | True  | True    |\n",
            "| True  | False | False   |\n",
            "| False | True  | False   |\n",
            "| False | False | False   |\n",
            "---------------------------\n",
            "\n",
            "2. Operator OR (or)\n",
            "---------------------------\n",
            "| A     | B     | A OR B  |\n",
            "---------------------------\n",
            "| True  | True  | True    |\n",
            "| True  | False | True    |\n",
            "| False | True  | True    |\n",
            "| False | False | False   |\n",
            "---------------------------\n",
            "\n",
            "3. Operator NOT (not)\n",
            "-----------------\n",
            "| A     | NOT A |\n",
            "-----------------\n",
            "| True  | False |\n",
            "| False | True  |\n",
            "-----------------\n"
          ]
        }
      ]
    },
    {
      "cell_type": "markdown",
      "source": [
        "6. Tuliskan macam-macam operasi relasi (relational operator ) dan contoh nya"
      ],
      "metadata": {
        "id": "Zqyf-3mqqX73"
      }
    },
    {
      "cell_type": "code",
      "source": [
        "print(\"Macam-macam Operator Relasi (Relational Operators) di Python\")\n",
        "print(\"\\n1. Sama dengan (==)\")\n",
        "print(\"   Contoh: \")\n",
        "print(\"   5 == 5 hasilnya\", 5 == 5)\n",
        "print(\"   5 == 8 hasilnya\", 5 == 8)\n",
        "\n",
        "print(\"\\n2. Tidak sama dengan (!=)\")\n",
        "print(\"   Contoh: \")\n",
        "print(\"   5 != 8 hasilnya\", 5 != 8)\n",
        "print(\"   5 != 5 hasilnya\", 5 != 5)\n",
        "\n",
        "print(\"\\n3. Lebih besar dari (>)\")\n",
        "print(\"   Contoh: \")\n",
        "print(\"   8 > 5 hasilnya\", 8 > 5)\n",
        "print(\"   5 > 8 hasilnya\", 5 > 8)\n",
        "\n",
        "print(\"\\n4. Kurang dari (<)\")\n",
        "print(\"   Contoh: \")\n",
        "print(\"   5 < 8 hasilnya\", 5 < 8)\n",
        "print(\"   8 < 5 hasilnya\", 8 < 5)\n",
        "\n",
        "print(\"\\n5. Lebih besar sama dengan (>=)\")\n",
        "print(\"   Contoh: \")\n",
        "print(\"   8 >= 5 hasilnya\", 8 >= 5)\n",
        "print(\"   5 >= 5 hasilnya\", 5 >= 5)\n",
        "print(\"   5 >= 8 hasilnya\", 5 >= 8)\n",
        "\n",
        "print(\"\\n6. Kurang dari sama dengan (<=)\")\n",
        "print(\"   Contoh: \")\n",
        "print(\"   5 <= 8 hasilnya\", 5 <= 8)\n",
        "print(\"   5 <= 5 hasilnya\", 5 <= 5)\n",
        "print(\"   8 <= 5 hasilnya\", 8 <= 5)"
      ],
      "metadata": {
        "colab": {
          "base_uri": "https://localhost:8080/"
        },
        "id": "wi8_BWVJqYbH",
        "outputId": "130315bd-3aed-45a8-c59a-1b691c663b83"
      },
      "execution_count": null,
      "outputs": [
        {
          "output_type": "stream",
          "name": "stdout",
          "text": [
            "Macam-macam Operator Relasi (Relational Operators) di Python\n",
            "\n",
            "1. Sama dengan (==)\n",
            "   Contoh: \n",
            "   5 == 5 hasilnya True\n",
            "   5 == 8 hasilnya False\n",
            "\n",
            "2. Tidak sama dengan (!=)\n",
            "   Contoh: \n",
            "   5 != 8 hasilnya True\n",
            "   5 != 5 hasilnya False\n",
            "\n",
            "3. Lebih besar dari (>)\n",
            "   Contoh: \n",
            "   8 > 5 hasilnya True\n",
            "   5 > 8 hasilnya False\n",
            "\n",
            "4. Kurang dari (<)\n",
            "   Contoh: \n",
            "   5 < 8 hasilnya True\n",
            "   8 < 5 hasilnya False\n",
            "\n",
            "5. Lebih besar sama dengan (>=)\n",
            "   Contoh: \n",
            "   8 >= 5 hasilnya True\n",
            "   5 >= 5 hasilnya True\n",
            "   5 >= 8 hasilnya False\n",
            "\n",
            "6. Kurang dari sama dengan (<=)\n",
            "   Contoh: \n",
            "   5 <= 8 hasilnya True\n",
            "   5 <= 5 hasilnya True\n",
            "   8 <= 5 hasilnya False\n"
          ]
        }
      ]
    }
  ]
}